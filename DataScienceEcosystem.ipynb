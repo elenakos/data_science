{
 "cells": [
  {
   "cell_type": "markdown",
   "id": "4fcca0cd-c173-4dad-b174-99c2933fff09",
   "metadata": {},
   "source": [
    "# Data Science Tools and Ecosystem"
   ]
  },
  {
   "cell_type": "markdown",
   "id": "c1c8f815-08d5-43b2-a61d-812d585cd75b",
   "metadata": {},
   "source": [
    "## In this notebook, Data Science Tools and Ecosystem are summarized."
   ]
  },
  {
   "cell_type": "markdown",
   "id": "40e92670-0e09-4628-a067-3013932653ec",
   "metadata": {},
   "source": [
    "### Objectives:\n",
    "- List popular languages for Data Science\n",
    "- Data Storage\n",
    "- Data Science Tools\n",
    "- Data Science Libraries"
   ]
  },
  {
   "cell_type": "markdown",
   "id": "a212bf5e-e506-4532-88f6-4e7d01079f8e",
   "metadata": {},
   "source": [
    "### Some of the popular languages that Data Scientists use are:"
   ]
  },
  {
   "cell_type": "markdown",
   "id": "8089fe3a-71ab-424a-9a3d-49750cd50f9e",
   "metadata": {},
   "source": [
    "1. Python\n",
    "2. R\n",
    "3. Julia"
   ]
  },
  {
   "cell_type": "markdown",
   "id": "82fe0ba1-dc75-464a-85d6-7ada208c42cf",
   "metadata": {},
   "source": [
    "### Some of the commonly used libraries used by Data Scientists include:"
   ]
  },
  {
   "cell_type": "markdown",
   "id": "aefb064f-cb9d-45e8-8023-e97178a3baaa",
   "metadata": {},
   "source": [
    "1. NumPy\n",
    "2. Pandas\n",
    "3. Matplotlib\n",
    "4. Scikit-learn\n",
    "5. Seaborn"
   ]
  },
  {
   "cell_type": "markdown",
   "id": "a584ef46-2d66-49ad-84fb-546d82a21e49",
   "metadata": {},
   "source": [
    "| Data Science Tools |\n",
    "|--------------------|\n",
    "| Jupyter Notebook   |\n",
    "| RStudio            |\n",
    "| Spyder             |"
   ]
  },
  {
   "cell_type": "markdown",
   "id": "a41e3071-2327-4d4d-a951-d07d66ddc4cc",
   "metadata": {},
   "source": [
    "### Below are a few examples of evaluating arithmetic expressions in Python"
   ]
  },
  {
   "cell_type": "code",
   "execution_count": 11,
   "id": "21096ceb-de4c-485b-a223-505586477cfb",
   "metadata": {},
   "outputs": [
    {
     "data": {
      "text/plain": [
       "17"
      ]
     },
     "execution_count": 11,
     "metadata": {},
     "output_type": "execute_result"
    }
   ],
   "source": [
    "# This a simple arithmetic expression to multiply then add integers\n",
    "(3*4)+5"
   ]
  },
  {
   "cell_type": "code",
   "execution_count": 12,
   "id": "f300c70b-4613-40c0-aab2-de57a5eac02a",
   "metadata": {},
   "outputs": [
    {
     "data": {
      "text/plain": [
       "3.3333333333333335"
      ]
     },
     "execution_count": 12,
     "metadata": {},
     "output_type": "execute_result"
    }
   ],
   "source": [
    "# This will convert 200 minutes to hours by diving by 60\n",
    "200/60"
   ]
  },
  {
   "cell_type": "markdown",
   "id": "b961534b-95b7-488c-974b-656f24a7b07c",
   "metadata": {},
   "source": [
    "## Author\n",
    "Elena Kostrygina"
   ]
  },
  {
   "cell_type": "code",
   "execution_count": null,
   "id": "9834ddbf-433c-4221-be28-2be0132f64a5",
   "metadata": {},
   "outputs": [],
   "source": []
  }
 ],
 "metadata": {
  "kernelspec": {
   "display_name": "Python 3 (ipykernel)",
   "language": "python",
   "name": "python3"
  },
  "language_info": {
   "codemirror_mode": {
    "name": "ipython",
    "version": 3
   },
   "file_extension": ".py",
   "mimetype": "text/x-python",
   "name": "python",
   "nbconvert_exporter": "python",
   "pygments_lexer": "ipython3",
   "version": "3.12.8"
  }
 },
 "nbformat": 4,
 "nbformat_minor": 5
}
